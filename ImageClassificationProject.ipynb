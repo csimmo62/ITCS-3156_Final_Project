{
 "cells": [
  {
   "cell_type": "markdown",
   "id": "85cc4ac4-20f2-479f-80ed-c24717211c48",
   "metadata": {},
   "source": [
    "# ITCS 3156 Final Project\n",
    "## Pokemon Image Classification"
   ]
  },
  {
   "cell_type": "code",
   "execution_count": null,
   "id": "23638a98-2f1d-43ec-b4f4-4e7f8f9588da",
   "metadata": {},
   "outputs": [],
   "source": []
  }
 ],
 "metadata": {
  "kernelspec": {
   "display_name": "Python 3 (ipykernel)",
   "language": "python",
   "name": "python3"
  },
  "language_info": {
   "codemirror_mode": {
    "name": "ipython",
    "version": 3
   },
   "file_extension": ".py",
   "mimetype": "text/x-python",
   "name": "python",
   "nbconvert_exporter": "python",
   "pygments_lexer": "ipython3",
   "version": "3.12.4"
  }
 },
 "nbformat": 4,
 "nbformat_minor": 5
}
